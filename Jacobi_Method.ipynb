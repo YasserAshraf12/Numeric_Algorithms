{
 "cells": [
  {
   "cell_type": "markdown",
   "metadata": {},
   "source": [
    "##### Required Packages"
   ]
  },
  {
   "cell_type": "code",
   "execution_count": 1,
   "metadata": {},
   "outputs": [],
   "source": [
    "import numpy as np\n",
    "from numpy.linalg import inv\n",
    "from scipy.linalg import lu"
   ]
  },
  {
   "cell_type": "markdown",
   "metadata": {},
   "source": [
    "#### Apply the Jacobi and Gauss-Seidel method to solve\n",
    "- 𝟓𝒙𝟏−𝟐𝒙𝟐+𝟑𝒙𝟑=−𝟏, −𝟑𝒙𝟏+𝟗𝒙𝟐+𝒙𝟑=𝟐, 𝟐𝒙𝟏−𝒙𝟐−𝟕𝒙𝟑=𝟑\n",
    "- Solve once without vectorization then use vectorize implementation.\n",
    "- Check for convergance.\n",
    "- Use different tolerence and see the difference between the two methods. e.g. tol: 0.01,0.001,0.0001 ... etc."
   ]
  },
  {
   "cell_type": "markdown",
   "metadata": {},
   "source": [
    "#### Jacobi not Vectorized"
   ]
  },
  {
   "cell_type": "markdown",
   "metadata": {},
   "source": [
    "##### Step 1: Check Type of Matrix (Convergence check)"
   ]
  },
  {
   "cell_type": "code",
   "execution_count": 2,
   "metadata": {},
   "outputs": [],
   "source": [
    "def matrixType(A):\n",
    "    D = np.zeros((A.shape), int)\n",
    "    np.fill_diagonal(D, np.diag(A))\n",
    "\n",
    "    np.abs(np.diag(A))\n",
    "    print(D)\n",
    "\n",
    "    diagonal = np.abs(np.diag(A))\n",
    "    print(diagonal)\n",
    "\n",
    "    off_diagonal = np.sum(np.abs(A)[~np.eye(np.abs(A).shape[0],dtype=bool)].reshape(3,2), axis=1)\n",
    "    print(off_diagonal)\n",
    "\n",
    "    if(np.all(diagonal > off_diagonal)):\n",
    "        print(\"Strictly Dominant\")\n",
    "\n",
    "    elif(np.all(diagonal >= off_diagonal)):\n",
    "        print(\"Diagonally Dominant\")\n",
    "        \n",
    "    elif(np.any(diagonal < off_diagonal)):\n",
    "        print(\"Non-diagonally Dominant\")"
   ]
  },
  {
   "cell_type": "markdown",
   "metadata": {},
   "source": [
    "##### Step 2: Implement Jacobi (Non-vectorized)"
   ]
  },
  {
   "cell_type": "code",
   "execution_count": 3,
   "metadata": {},
   "outputs": [],
   "source": [
    "def jacobi_non_vectorized(A, epsilon=0.00001):\n",
    "\n",
    "    x1, x2, x3 = [0.0], [0.0], [0.0]\n",
    "    print(\"k,\\tx1,\\tx2,\\tx3\")\n",
    "    \n",
    "    for i in range(1000):\n",
    "        \n",
    "        if (len(x1) > 2):\n",
    "            error = np.linalg.norm([np.abs(x1[i]-x1[i-1]), np.abs(x2[i]-x2[i-1]), np.abs(x3[i]-x3[i-1])])\n",
    "            if error <= epsilon:\n",
    "                print(\"Converged\")\n",
    "                break\n",
    "            else:\n",
    "                print(i, end=\"\\t\")\n",
    "        else:\n",
    "            print(i, end=\"\\t\")\n",
    "        \n",
    "        print(np.round(x1[i], 4), end=\"\\t\")\n",
    "        print(np.round(x2[i], 4), end=\"\\t\")\n",
    "        print(np.round(x3[i], 4), end=\"\\t\")\n",
    "        print(\"\\n\")\n",
    "        \n",
    "        x1.append(((2 * x2[i - 1]) - (3 * x3[i - 1]) - 1) / (5))\n",
    "        x2.append(((3 * x1[i - 1]) - x3[i - 1] + 2) / (9))\n",
    "        x3.append(((-2 * x1[i - 1]) + x2[i - 1] +3) / (-7))"
   ]
  },
  {
   "cell_type": "markdown",
   "metadata": {},
   "source": [
    "##### Step 3: Test Function"
   ]
  },
  {
   "cell_type": "code",
   "execution_count": 4,
   "metadata": {},
   "outputs": [
    {
     "name": "stdout",
     "output_type": "stream",
     "text": [
      "[[ 5  0  0]\n",
      " [ 0  9  0]\n",
      " [ 0  0 -7]]\n",
      "[5 9 7]\n",
      "[5 4 3]\n",
      "Diagonally Dominant\n",
      "---------------------------\n",
      "k,\tx1,\tx2,\tx3\n",
      "0\t0.0\t0.0\t0.0\t\n",
      "\n",
      "1\t-0.2\t0.1556\t-0.5079\t\n",
      "\n",
      "2\t-0.2\t0.2222\t-0.4286\t\n",
      "\n",
      "3\t0.167\t0.212\t-0.5079\t\n",
      "\n",
      "4\t0.146\t0.2032\t-0.5175\t\n",
      "\n",
      "5\t0.1896\t0.3343\t-0.4111\t\n",
      "\n",
      "6\t0.1917\t0.3284\t-0.4159\t\n",
      "\n",
      "7\t0.1804\t0.3311\t-0.4222\t\n",
      "\n",
      "8\t0.1809\t0.3323\t-0.4207\t\n",
      "\n",
      "9\t0.1857\t0.3293\t-0.4243\t\n",
      "\n",
      "10\t0.1854\t0.3293\t-0.4244\t\n",
      "\n",
      "11\t0.1863\t0.3313\t-0.4225\t\n",
      "\n",
      "12\t0.1863\t0.3312\t-0.4226\t\n",
      "\n",
      "13\t0.186\t0.3313\t-0.4227\t\n",
      "\n",
      "14\t0.1861\t0.3313\t-0.4226\t\n",
      "\n",
      "15\t0.1861\t0.3312\t-0.4227\t\n",
      "\n",
      "Converged\n"
     ]
    }
   ],
   "source": [
    "A = np.array([[5, -2, 3], [-3, 9, 1], [2, -1, -7] ])\n",
    "matrixType(A)\n",
    "print(\"---------------------------\")\n",
    "jacobi_non_vectorized(A=A)"
   ]
  },
  {
   "cell_type": "markdown",
   "metadata": {},
   "source": [
    "#### Jacobi Vectorized"
   ]
  },
  {
   "cell_type": "code",
   "execution_count": 5,
   "metadata": {},
   "outputs": [],
   "source": [
    "def jacobi_vectorized(A, Y, epsilon=0.00001):\n",
    "    \n",
    "    D = np.zeros((A.shape), int)\n",
    "    np.fill_diagonal(D, np.diag(A))\n",
    "\n",
    "    D_inv = inv(D)\n",
    "    L = -np.tril(A, -1)\n",
    "    U = np.triu(A, 1)\n",
    "\n",
    "    T = (D_inv) @ (L - U)\n",
    "    C = np.ravel(D_inv @ Y)\n",
    "\n",
    "    print(\"k,\\tx1,\\tx2,\\tx3\")\n",
    "\n",
    "    X = np.zeros(A.shape[1])\n",
    "\n",
    "    for i in range(1, 1000):\n",
    "        \n",
    "        last_X = np.copy(X)\n",
    "        \n",
    "        print(i, end=\"\\t\")\n",
    "        \n",
    "        X = T @ last_X + C\n",
    "        print(*np.round(X, 4), sep=\"\\t\")\n",
    "        \n",
    "        if (np.abs(X - last_X) < epsilon).all():\n",
    "            print(\"Converged\")\n",
    "            break"
   ]
  },
  {
   "cell_type": "code",
   "execution_count": 6,
   "metadata": {},
   "outputs": [
    {
     "name": "stdout",
     "output_type": "stream",
     "text": [
      "k,\tx1,\tx2,\tx3\n",
      "1\t-0.2\t0.2222\t-0.4286\n",
      "2\t0.146\t0.2032\t-0.5175\n",
      "3\t0.1917\t0.3284\t-0.4159\n",
      "4\t0.1809\t0.3323\t-0.4207\n",
      "5\t0.1854\t0.3293\t-0.4244\n",
      "6\t0.1863\t0.3312\t-0.4226\n",
      "7\t0.1861\t0.3313\t-0.4226\n",
      "8\t0.1861\t0.3312\t-0.4227\n",
      "9\t0.1861\t0.3312\t-0.4227\n",
      "10\t0.1861\t0.3312\t-0.4227\n",
      "Converged\n"
     ]
    }
   ],
   "source": [
    "A = np.array([[5, -2, 3], [-3, 9, 1], [2, -1, -7]])\n",
    "Y = np.array([ [-1], [2], [3] ])\n",
    "jacobi_vectorized(A=A, Y=Y)"
   ]
  }
 ],
 "metadata": {
  "interpreter": {
   "hash": "8aec32d155930cf0381c88650aabd05d0c63319be8b0b9ae7caf1e75ecc5e461"
  },
  "kernelspec": {
   "display_name": "Python 3.9.6 64-bit",
   "language": "python",
   "name": "python3"
  },
  "language_info": {
   "codemirror_mode": {
    "name": "ipython",
    "version": 3
   },
   "file_extension": ".py",
   "mimetype": "text/x-python",
   "name": "python",
   "nbconvert_exporter": "python",
   "pygments_lexer": "ipython3",
   "version": "3.9.6"
  },
  "orig_nbformat": 4
 },
 "nbformat": 4,
 "nbformat_minor": 2
}
