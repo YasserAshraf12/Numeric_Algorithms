{
 "cells": [
  {
   "cell_type": "markdown",
   "metadata": {},
   "source": [
    "### Required Packages"
   ]
  },
  {
   "cell_type": "code",
   "execution_count": 1,
   "metadata": {},
   "outputs": [],
   "source": [
    "import numpy as np\n",
    "from prettytable import PrettyTable as tb\n",
    "from sympy import Symbol, lambdify\n",
    "from sympy import sin, cos"
   ]
  },
  {
   "cell_type": "markdown",
   "metadata": {},
   "source": [
    "## Newton-Raphson Method\n",
    "- Implement the <b>Newton's method</b> as a function and solve the following equations:\n",
    "    - $𝒇(𝒙)=𝒙^𝟑−𝒙^𝟐−𝟏𝟓𝒙+𝟏$,          𝒙_𝟎=𝟒.𝟓\n",
    "    - $𝒄𝒐𝒔(𝒙)=𝒙$,                      [0,2]\n",
    "    - $𝒇(𝒙)=𝒙^𝟑−𝟐𝒙+𝟐$,               𝒙_𝟎=-2\n",
    "- Draw the functions and check out the roots.\n",
    "- Try your function with different initialization and check out the results."
   ]
  },
  {
   "cell_type": "code",
   "execution_count": null,
   "metadata": {},
   "outputs": [],
   "source": [
    "def fixed(y, p=1, max_iter=1000, tol=0.000001):\n",
    "    \n",
    "    f = lambdify(x, y)\n",
    "    f_prime = lambdify(x, y.diff())\n",
    "    \n",
    "    table = tb([\"iterations\", \"Xr\", \"Xr+1\", \"|Xr+1 - Xr|\"])\n",
    "\n",
    "    diff = 0\n",
    "    for i in range(max_iter):\n",
    "        prev = p\n",
    "        p = p - f(p) / f_prime(p)\n",
    "        diff = np.abs(p - prev)\n",
    "        \n",
    "        table.add_row([(i+1), prev, p, diff])\n",
    "        \n",
    "        if diff < tol:\n",
    "            break\n",
    "\n",
    "    return p, table"
   ]
  },
  {
   "cell_type": "code",
   "execution_count": null,
   "metadata": {},
   "outputs": [
    {
     "name": "stdout",
     "output_type": "stream",
     "text": [
      "+------------+-------------------+-------------------+------------------------+\n",
      "| iterations |         Xr        |        Xr+1       |      |Xr+1 - Xr|       |\n",
      "+------------+-------------------+-------------------+------------------------+\n",
      "|     1      |        4.5        | 4.380952380952381 |  0.11904761904761862   |\n",
      "|     2      | 4.380952380952381 | 4.375763555606645 |  0.00518882534573617   |\n",
      "|     3      | 4.375763555606645 | 4.375753855705814 | 9.699900830995034e-06  |\n",
      "|     4      | 4.375753855705814 | 4.375753855671946 | 3.3868019500005175e-11 |\n",
      "+------------+-------------------+-------------------+------------------------+\n",
      "4.375753855671946 \n",
      "\n"
     ]
    }
   ],
   "source": [
    "# using Fixed\n",
    "\n",
    "x = Symbol(\"x\")\n",
    "\n",
    "y = x ** 3 - x ** 2 - 15 * x + 1\n",
    "# Use Lambda or lambdify\n",
    "f = lambdify(x, y)\n",
    "f_prime = lambdify(x, y.diff())\n",
    "\n",
    "r, table = fixed(y, 4.5)\n",
    "print(table)\n",
    "print(r, \"\\n\")"
   ]
  },
  {
   "cell_type": "code",
   "execution_count": null,
   "metadata": {},
   "outputs": [
    {
     "name": "stdout",
     "output_type": "stream",
     "text": [
      "+------------+--------------------+--------------------+------------------------+\n",
      "| iterations |         Xr         |        Xr+1        |      |Xr+1 - Xr|       |\n",
      "+------------+--------------------+--------------------+------------------------+\n",
      "|     1      |         1          | 0.7503638678402439 |   0.2496361321597561   |\n",
      "|     2      | 0.7503638678402439 | 0.7391128909113617 |  0.011250976928882217  |\n",
      "|     3      | 0.7391128909113617 | 0.739085133385284  | 2.7757526077643035e-05 |\n",
      "|     4      | 0.739085133385284  | 0.7390851332151607 | 1.7012335984389892e-10 |\n",
      "+------------+--------------------+--------------------+------------------------+\n",
      "0.7390851332151607 \n",
      "\n"
     ]
    }
   ],
   "source": [
    "y = cos(x) - x\n",
    "f = lambdify(x, y)\n",
    "f_prime = lambdify(x, y.diff())\n",
    "r, table = fixed(y, 1)\n",
    "print(table)\n",
    "print(r, \"\\n\")"
   ]
  },
  {
   "cell_type": "code",
   "execution_count": null,
   "metadata": {},
   "outputs": [
    {
     "name": "stdout",
     "output_type": "stream",
     "text": [
      "+------------+---------------------+---------------------+------------------------+\n",
      "| iterations |          Xr         |         Xr+1        |      |Xr+1 - Xr|       |\n",
      "+------------+---------------------+---------------------+------------------------+\n",
      "|     1      |          -2         |         -1.8        |  0.19999999999999996   |\n",
      "|     2      |         -1.8        | -1.7699481865284974 |  0.030051813471502653  |\n",
      "|     3      | -1.7699481865284974 |  -1.769292662905941 | 0.0006555236225564975  |\n",
      "|     4      |  -1.769292662905941 | -1.7692923542386998 | 3.0866724110012456e-07 |\n",
      "+------------+---------------------+---------------------+------------------------+\n",
      "-1.7692923542386998 \n",
      "\n"
     ]
    }
   ],
   "source": [
    "f = lambdify(x, y)\n",
    "y = x ** 3 - 2 * x + 2\n",
    "f_prime = lambdify(x, y.diff())\n",
    "r, table = fixed(y, -2)\n",
    "print(table)\n",
    "print(r, \"\\n\")"
   ]
  }
 ],
 "metadata": {
  "interpreter": {
   "hash": "8aec32d155930cf0381c88650aabd05d0c63319be8b0b9ae7caf1e75ecc5e461"
  },
  "kernelspec": {
   "display_name": "Python 3.9.6 64-bit",
   "language": "python",
   "name": "python3"
  },
  "language_info": {
   "codemirror_mode": {
    "name": "ipython",
    "version": 3
   },
   "file_extension": ".py",
   "mimetype": "text/x-python",
   "name": "python",
   "nbconvert_exporter": "python",
   "pygments_lexer": "ipython3",
   "version": "3.9.6"
  },
  "orig_nbformat": 4
 },
 "nbformat": 4,
 "nbformat_minor": 2
}
