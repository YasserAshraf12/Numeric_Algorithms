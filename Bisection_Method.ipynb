{
 "cells": [
  {
   "cell_type": "markdown",
   "metadata": {},
   "source": [
    "### Required Packages"
   ]
  },
  {
   "cell_type": "code",
   "execution_count": 1,
   "metadata": {},
   "outputs": [],
   "source": [
    "import numpy as np"
   ]
  },
  {
   "cell_type": "markdown",
   "metadata": {},
   "source": [
    "## Bisection Method\n",
    "- Implement the <b>bisection method</b> as a function and solve the following equations:\n",
    "    - 𝒇(𝒙)=𝒙^𝟑−𝒙−𝟐,          𝒙∈[𝟏,𝟐]\n",
    "    - 𝒇(𝒙)=𝒙^2−𝟐,          𝒙∈[0,𝟐]\n",
    "    \n",
    "- Try your function in another intervals and check out the results."
   ]
  },
  {
   "cell_type": "code",
   "execution_count": 2,
   "metadata": {},
   "outputs": [],
   "source": [
    "def bisection_method(f, a, b, to):\n",
    "    for i in range(1000):\n",
    "        m = (a + b) / 2\n",
    "        \n",
    "        if np.sign(f(a)) == np.sign(f(b)):\n",
    "            print(\"The scalars a and b do not bound a root!\")\n",
    "            break\n",
    "        \n",
    "        if np.abs(f(m)) < to:\n",
    "            return m\n",
    "        \n",
    "        if np.sign(f(m)) == np.sign(f(a)):\n",
    "            a = m\n",
    "        else:\n",
    "            b = m\n",
    "        \n",
    "    return m"
   ]
  },
  {
   "cell_type": "code",
   "execution_count": 3,
   "metadata": {},
   "outputs": [
    {
     "name": "stdout",
     "output_type": "stream",
     "text": [
      "r1 = 1.4375\n",
      "r01 = 1.4140625\n",
      "f(r1) = 0.06640625\n",
      "f(r01) = -0.00042724609375\n"
     ]
    }
   ],
   "source": [
    "f = lambda x: x ** 2 - 2\n",
    "\n",
    "r1 = bisection_method(f, 0, 2, 0.1)\n",
    "print(\"r1 =\", r1)\n",
    "r01 = bisection_method(f, 0, 2, 0.01)\n",
    "print(\"r01 =\", r01)\n",
    "\n",
    "print(\"f(r1) =\", f(r1))\n",
    "print(\"f(r01) =\", f(r01))"
   ]
  },
  {
   "cell_type": "code",
   "execution_count": 4,
   "metadata": {},
   "outputs": [
    {
     "name": "stdout",
     "output_type": "stream",
     "text": [
      "r2 = 1.53125\n",
      "r02 = 1.521484375\n",
      "f(r2) = 0.059112548828125\n",
      "f(r02) = 0.0006221756339073181\n"
     ]
    }
   ],
   "source": [
    "f = lambda x: x ** 3 - x - 2\n",
    "\n",
    "r2 = bisection_method(f, 0, 2, 0.1)\n",
    "print(\"r2 =\", r2)\n",
    "r02 = bisection_method(f, 0, 2, 0.01)\n",
    "print(\"r02 =\", r02)\n",
    "\n",
    "print(\"f(r2) =\", f(r2))\n",
    "print(\"f(r02) =\", f(r02))"
   ]
  },
  {
   "cell_type": "code",
   "execution_count": 5,
   "metadata": {},
   "outputs": [
    {
     "name": "stdout",
     "output_type": "stream",
     "text": [
      "The scalars a and b do not bound a root!\n"
     ]
    }
   ],
   "source": [
    "r3 = bisection_method(f, -2, 1, 0.1)"
   ]
  }
 ],
 "metadata": {
  "interpreter": {
   "hash": "8aec32d155930cf0381c88650aabd05d0c63319be8b0b9ae7caf1e75ecc5e461"
  },
  "kernelspec": {
   "display_name": "Python 3.9.6 64-bit",
   "language": "python",
   "name": "python3"
  },
  "language_info": {
   "codemirror_mode": {
    "name": "ipython",
    "version": 3
   },
   "file_extension": ".py",
   "mimetype": "text/x-python",
   "name": "python",
   "nbconvert_exporter": "python",
   "pygments_lexer": "ipython3",
   "version": "3.9.6"
  },
  "orig_nbformat": 4
 },
 "nbformat": 4,
 "nbformat_minor": 2
}
