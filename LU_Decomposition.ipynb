{
 "cells": [
  {
   "cell_type": "markdown",
   "metadata": {},
   "source": [
    "#### Required Packages"
   ]
  },
  {
   "cell_type": "code",
   "execution_count": 1,
   "metadata": {},
   "outputs": [],
   "source": [
    "import numpy as np\n",
    "from numpy.linalg import inv\n",
    "from scipy.linalg import lu"
   ]
  },
  {
   "cell_type": "markdown",
   "metadata": {},
   "source": [
    "### Solve the following system of equations using LU Decomposition method:\n",
    "#### Find L and U by hand.\n",
    "#### Confirm that A=LU then solve.\n",
    "- Ex1. 𝟐𝒙+𝟓𝒚=𝟐𝟏, 𝒙+𝟐𝒚=𝟖.\n",
    "- Ex2. 𝒙𝟏+𝒙𝟐+𝒙𝟑=𝟏, 𝟒𝒙𝟏+𝟑𝒙𝟐−𝒙𝟑=𝟔, 𝟑𝒙𝟏+𝟓𝒙_𝟐+𝟑𝒙𝟑=𝟒\n",
    "\n",
    "#### Use scipy.linalg.lu() to slove the previous system using LU decomposition and compare the results."
   ]
  },
  {
   "cell_type": "markdown",
   "metadata": {},
   "source": [
    "### Note (when using scipy):\n",
    "- In the second system of equations We can see the <b>L and U</b> we get are different from the ones we got by hand. \n",
    "- You will also see there is a permutation matrix <b>P</b> that returned by the <b>lu function</b>. \n",
    "- This permutation matrix record how do we change the order of the equations for easier calculation purposes (for example, if first element in first row is zero, it can not be the pivot equation, since you can not turn the first elements in other rows to zero. Therefore, we need to switch the order of the equations to get a new pivot equation). \n",
    "- If you multiply <b>P with A</b>, you will see that this permutation matrix effect.\n",
    "- You will need to arrange the ouput based on the new matrix <b>A</b> achieved by <b>LU</b> multiplication in order to correctly solve the system of equations."
   ]
  },
  {
   "cell_type": "code",
   "execution_count": 32,
   "metadata": {},
   "outputs": [],
   "source": [
    "def printResult(**matrices):\n",
    "    for label, matrix in matrices.items():\n",
    "        print(\"Matrix({}) Dim: \".format(label), matrix.shape, \"\\n\", matrix, end=\"\\n-----------------------------------------------\\n\")\n",
    "#################################################################################\n",
    "def LU_DEC(A, Y):\n",
    "    P, L, U = lu(A)\n",
    "    Y = inv(P) @ Y\n",
    "    LU = L.dot(U)\n",
    "        \n",
    "    M = inv(L) @ Y\n",
    "    X = inv(U) @ M\n",
    "\n",
    "    printResult(A=A, L=L, U=U, P=P, Y=Y, LU=LU, M=M, X=X)"
   ]
  },
  {
   "cell_type": "markdown",
   "metadata": {},
   "source": [
    "- ##### Ex1. 𝟐𝒙+𝟓𝒚=𝟐𝟏, 𝒙+𝟐𝒚=𝟖."
   ]
  },
  {
   "cell_type": "code",
   "execution_count": 33,
   "metadata": {},
   "outputs": [
    {
     "name": "stdout",
     "output_type": "stream",
     "text": [
      "Matrix(A) Dim:  (2, 2) \n",
      " [[2 5]\n",
      " [1 2]]\n",
      "-----------------------------------------------\n",
      "Matrix(L) Dim:  (2, 2) \n",
      " [[1.  0. ]\n",
      " [0.5 1. ]]\n",
      "-----------------------------------------------\n",
      "Matrix(U) Dim:  (2, 2) \n",
      " [[ 2.   5. ]\n",
      " [ 0.  -0.5]]\n",
      "-----------------------------------------------\n",
      "Matrix(P) Dim:  (2, 2) \n",
      " [[1. 0.]\n",
      " [0. 1.]]\n",
      "-----------------------------------------------\n",
      "Matrix(Y) Dim:  (2, 1) \n",
      " [[21.]\n",
      " [ 8.]]\n",
      "-----------------------------------------------\n",
      "Matrix(LU) Dim:  (2, 2) \n",
      " [[2. 5.]\n",
      " [1. 2.]]\n",
      "-----------------------------------------------\n",
      "Matrix(M) Dim:  (2, 1) \n",
      " [[21. ]\n",
      " [-2.5]]\n",
      "-----------------------------------------------\n",
      "Matrix(X) Dim:  (2, 1) \n",
      " [[-2.]\n",
      " [ 5.]]\n",
      "-----------------------------------------------\n"
     ]
    }
   ],
   "source": [
    "A = np.array([ [2,5], [1,2] ])\n",
    "Y = np.array([ [21], [8] ])\n",
    "LU_DEC(A, Y)"
   ]
  },
  {
   "cell_type": "markdown",
   "metadata": {},
   "source": [
    "- ##### Ex2. 𝒙𝟏+𝒙𝟐+𝒙𝟑=𝟏, 𝟒𝒙𝟏+𝟑𝒙𝟐−𝒙𝟑=𝟔, 𝟑𝒙𝟏+𝟓𝒙_𝟐+𝟑𝒙𝟑=𝟒"
   ]
  },
  {
   "cell_type": "code",
   "execution_count": 34,
   "metadata": {},
   "outputs": [
    {
     "name": "stdout",
     "output_type": "stream",
     "text": [
      "Matrix(A) Dim:  (3, 3) \n",
      " [[ 1  1  1]\n",
      " [ 4  3 -1]\n",
      " [ 3  5  3]]\n",
      "-----------------------------------------------\n",
      "Matrix(L) Dim:  (3, 3) \n",
      " [[1.         0.         0.        ]\n",
      " [0.75       1.         0.        ]\n",
      " [0.25       0.09090909 1.        ]]\n",
      "-----------------------------------------------\n",
      "Matrix(U) Dim:  (3, 3) \n",
      " [[ 4.          3.         -1.        ]\n",
      " [ 0.          2.75        3.75      ]\n",
      " [ 0.          0.          0.90909091]]\n",
      "-----------------------------------------------\n",
      "Matrix(P) Dim:  (3, 3) \n",
      " [[0. 0. 1.]\n",
      " [1. 0. 0.]\n",
      " [0. 1. 0.]]\n",
      "-----------------------------------------------\n",
      "Matrix(Y) Dim:  (3, 1) \n",
      " [[6.]\n",
      " [4.]\n",
      " [1.]]\n",
      "-----------------------------------------------\n",
      "Matrix(LU) Dim:  (3, 3) \n",
      " [[ 4.  3. -1.]\n",
      " [ 3.  5.  3.]\n",
      " [ 1.  1.  1.]]\n",
      "-----------------------------------------------\n",
      "Matrix(M) Dim:  (3, 1) \n",
      " [[ 6.        ]\n",
      " [-0.5       ]\n",
      " [-0.45454545]]\n",
      "-----------------------------------------------\n",
      "Matrix(X) Dim:  (3, 1) \n",
      " [[ 1. ]\n",
      " [ 0.5]\n",
      " [-0.5]]\n",
      "-----------------------------------------------\n"
     ]
    }
   ],
   "source": [
    "A = np.array([[1, 1, 1], [4, 3, -1], [3, 5, 3]])\n",
    "Y = np.array([[1],[6], [4]])\n",
    "LU_DEC(A, Y)"
   ]
  }
 ],
 "metadata": {
  "interpreter": {
   "hash": "8aec32d155930cf0381c88650aabd05d0c63319be8b0b9ae7caf1e75ecc5e461"
  },
  "kernelspec": {
   "display_name": "Python 3.9.6 64-bit",
   "language": "python",
   "name": "python3"
  },
  "language_info": {
   "codemirror_mode": {
    "name": "ipython",
    "version": 3
   },
   "file_extension": ".py",
   "mimetype": "text/x-python",
   "name": "python",
   "nbconvert_exporter": "python",
   "pygments_lexer": "ipython3",
   "version": "3.9.6"
  },
  "orig_nbformat": 4
 },
 "nbformat": 4,
 "nbformat_minor": 2
}
