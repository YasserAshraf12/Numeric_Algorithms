{
 "cells": [
  {
   "cell_type": "markdown",
   "id": "6af47088",
   "metadata": {},
   "source": [
    "##### Required Packages"
   ]
  },
  {
   "cell_type": "code",
   "execution_count": 1,
   "id": "61cc92ce",
   "metadata": {},
   "outputs": [],
   "source": [
    "import numpy as np\n",
    "import matplotlib.pyplot as plt"
   ]
  },
  {
   "cell_type": "markdown",
   "id": "658c8a26",
   "metadata": {
    "id": "658c8a26"
   },
   "source": [
    "## Secant Method\n",
    "- Implement the <b>Secant method</b> as a function and solve the following equation:\n",
    "    - $𝒇(𝒙)=𝒙^𝟑−𝒙^𝟐−𝟏𝟓𝒙+𝟏$,          𝒙_𝟎=𝟒.𝟓\n",
    "- Draw the functions and check out the roots.\n",
    "- Try your function with different initialization and check out the results.\n",
    "- Compare the results with the one from Newton's method."
   ]
  },
  {
   "cell_type": "markdown",
   "id": "MvnWTVoX154S",
   "metadata": {
    "id": "MvnWTVoX154S"
   },
   "source": [
    "![1PNG.PNG](data:image/png;base64,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)"
   ]
  },
  {
   "cell_type": "code",
   "execution_count": 2,
   "id": "49952865",
   "metadata": {
    "id": "49952865"
   },
   "outputs": [],
   "source": [
    "def secant_method(f, x0, x1, tol, n_iter):\n",
    "\n",
    "  for i in range(n_iter):\n",
    "    \n",
    "    x_new = x1 - f(x1) * ((x1 - x0) / (f(x1) - f(x0)))\n",
    "    x0 = x1\n",
    "    x1 = x_new\n",
    "\n",
    "    if abs(f(x1)) <= tol:\n",
    "      print(\"Found solution after \", (i+1), \" iterations\")\n",
    "      print(\"r = \", x_new)\n",
    "      print(\"f(r1) = \", f(x1))\n",
    "      break"
   ]
  },
  {
   "cell_type": "code",
   "execution_count": 3,
   "id": "Xom-6Kj9qBaB",
   "metadata": {
    "colab": {
     "base_uri": "https://localhost:8080/"
    },
    "id": "Xom-6Kj9qBaB",
    "outputId": "2186e5e5-967d-4de2-df75-ff8ad3507e22"
   },
   "outputs": [
    {
     "name": "stdout",
     "output_type": "stream",
     "text": [
      "Found solution after  5  iterations\n",
      "r =  4.375753855672038\n",
      "f(r1) =  3.097966327914037e-12\n"
     ]
    }
   ],
   "source": [
    "f = lambda x: (x ** 3) - (x ** 2) - (15 * x) + 1\n",
    "secant_method(f, x0=5.5, x1= 4.5, tol=1e-8, n_iter=1000)"
   ]
  },
  {
   "cell_type": "code",
   "execution_count": 4,
   "id": "c224a472",
   "metadata": {
    "colab": {
     "base_uri": "https://localhost:8080/"
    },
    "id": "c224a472",
    "outputId": "7f304c3e-105a-4b39-e0fe-dceecd1c0a43"
   },
   "outputs": [
    {
     "name": "stdout",
     "output_type": "stream",
     "text": [
      "Found solution after  4  iterations\n",
      "r =  4.3757538557143265\n",
      "f(r1) =  1.427807205800491e-09\n"
     ]
    }
   ],
   "source": [
    "# Secant with initial xk-1 = 4.51, epsilon = 1e-8\n",
    "secant_method(f, x0=4.51, x1= 4.5, tol=1e-8, n_iter=1000)"
   ]
  },
  {
   "cell_type": "code",
   "execution_count": 5,
   "id": "eaa56a2c",
   "metadata": {
    "colab": {
     "base_uri": "https://localhost:8080/"
    },
    "id": "eaa56a2c",
    "outputId": "22903c4e-16c0-4fb0-a39f-ed63c85b226f",
    "scrolled": true
   },
   "outputs": [
    {
     "name": "stdout",
     "output_type": "stream",
     "text": [
      "Found solution after  10  iterations\n",
      "r =  -3.4421461699322515\n",
      "f(r1) =  -2.842170943040401e-14\n"
     ]
    }
   ],
   "source": [
    "# Secant with initial xk-1 = 0, epsilon = 1e-8\n",
    "secant_method(f, x0=0, x1=4.5, tol=1e-8, n_iter=1000)"
   ]
  },
  {
   "cell_type": "markdown",
   "id": "60qS9gI9_Cxw",
   "metadata": {
    "id": "60qS9gI9_Cxw"
   },
   "source": [
    "![3PNG.PNG](data:image/png;base64,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)![2PNG.PNG](data:image/png;base64,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)"
   ]
  },
  {
   "cell_type": "code",
   "execution_count": 6,
   "id": "O8jr06pf9emW",
   "metadata": {
    "id": "O8jr06pf9emW"
   },
   "outputs": [],
   "source": [
    "# Newton's with epsilon = 1e-8\n",
    "\n",
    "def newton(f, x0, x1, tol=1e-8, n_iter=1000):\n",
    "  \n",
    "  for i in range(n_iter):\n",
    "\n",
    "    f_dash = (f(x1) - f(x0)) / (x1 - x0)\n",
    "\n",
    "    x_new = x1 - f(x1) / f_dash\n",
    "    x0 = x1\n",
    "    x1 = x_new\n",
    "\n",
    "    if abs(f(x1)) <= tol:\n",
    "      print(\"Found solution after \", (i+1), \" iterations\")\n",
    "      print(\"r = \", x_new)\n",
    "      print(\"f(r1) = \", f(x1))\n",
    "      break"
   ]
  },
  {
   "cell_type": "code",
   "execution_count": 7,
   "id": "A_6eGedqAo0f",
   "metadata": {
    "colab": {
     "base_uri": "https://localhost:8080/"
    },
    "id": "A_6eGedqAo0f",
    "outputId": "4ce59f6d-fb5d-493f-8910-c0f1bbaff84c"
   },
   "outputs": [
    {
     "name": "stdout",
     "output_type": "stream",
     "text": [
      "Found solution after  5  iterations\n",
      "r =  4.375753855672038\n",
      "f(r1) =  3.097966327914037e-12\n"
     ]
    }
   ],
   "source": [
    "f = lambda x: (x ** 3) - (x ** 2) - (15 * x) + 1\n",
    "newton(f=f, x0=5.5, x1=4.5, tol=1e-8)"
   ]
  }
 ],
 "metadata": {
  "interpreter": {
   "hash": "8aec32d155930cf0381c88650aabd05d0c63319be8b0b9ae7caf1e75ecc5e461"
  },
  "kernelspec": {
   "display_name": "Python 3.9.6 64-bit",
   "language": "python",
   "name": "python3"
  },
  "language_info": {
   "codemirror_mode": {
    "name": "ipython",
    "version": 3
   },
   "file_extension": ".py",
   "mimetype": "text/x-python",
   "name": "python",
   "nbconvert_exporter": "python",
   "pygments_lexer": "ipython3",
   "version": "3.9.6"
  },
  "orig_nbformat": 4
 },
 "nbformat": 4,
 "nbformat_minor": 2
}
