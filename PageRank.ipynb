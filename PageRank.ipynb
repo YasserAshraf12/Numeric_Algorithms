{
 "cells": [
  {
   "cell_type": "markdown",
   "metadata": {},
   "source": [
    "##### Required Packages"
   ]
  },
  {
   "cell_type": "code",
   "execution_count": 1,
   "metadata": {},
   "outputs": [],
   "source": [
    "import numpy as np\n",
    "from numpy import linalg as LA\n",
    "import pandas as pd"
   ]
  },
  {
   "cell_type": "code",
   "execution_count": 2,
   "metadata": {},
   "outputs": [],
   "source": [
    "def power_method(A):\n",
    "    \n",
    "    X = np.ones((A.shape[0], 1), int)\n",
    "    past = np.ones((A.shape[0], 1), int)\n",
    "    \n",
    "    epsilon = 0.000001\n",
    "    n_iter = 0\n",
    "    for i in range(12):\n",
    "        past = X\n",
    "        \n",
    "        res = A.dot(X)\n",
    "        largest_lambda = LA.norm(res, np.inf)\n",
    "        print(\"Lambda: \", largest_lambda)\n",
    "        res = (res / LA.norm(res, np.inf))\n",
    "        X = res\n",
    "        n_iter+=1\n",
    "        if i > 0 and LA.norm(past - X) <= epsilon:\n",
    "            break\n",
    "        print(\"Iteration \", i, \"\\n\",X, \"\\n\")\n",
    "    return largest_lambda, X, n_iter\n"
   ]
  },
  {
   "cell_type": "markdown",
   "metadata": {},
   "source": [
    "#### PageRank"
   ]
  },
  {
   "cell_type": "code",
   "execution_count": 3,
   "metadata": {},
   "outputs": [],
   "source": [
    "p = np.array([[0 , 0 , 0.25 , 0 , 0],\n",
    "            [1 , 0 , 0.25 , 0 , 0 ],\n",
    "            [0 , 0 ,   0 , 0.5, 0 ],\n",
    "            [0 , 0 , 0.25 , 0 , 1 ],\n",
    "            [0 , 1 , 0.25 ,.5 , 0]])"
   ]
  },
  {
   "cell_type": "code",
   "execution_count": 4,
   "metadata": {},
   "outputs": [],
   "source": [
    "nodes = np.array([4, 5, 3, 2, 1])"
   ]
  },
  {
   "cell_type": "code",
   "execution_count": 5,
   "metadata": {},
   "outputs": [
    {
     "name": "stdout",
     "output_type": "stream",
     "text": [
      "Lambda:  1.75\n",
      "Iteration  0 \n",
      " [[0.14285714]\n",
      " [0.71428571]\n",
      " [0.28571429]\n",
      " [0.71428571]\n",
      " [1.        ]] \n",
      "\n",
      "Lambda:  1.1428571428571428\n",
      "Iteration  1 \n",
      " [[0.0625]\n",
      " [0.1875]\n",
      " [0.3125]\n",
      " [0.9375]\n",
      " [1.    ]] \n",
      "\n",
      "Lambda:  1.078125\n",
      "Iteration  2 \n",
      " [[0.07246377]\n",
      " [0.13043478]\n",
      " [0.43478261]\n",
      " [1.        ]\n",
      " [0.68115942]] \n",
      "\n",
      "Lambda:  0.7898550724637682\n",
      "Iteration  3 \n",
      " [[0.13761468]\n",
      " [0.2293578 ]\n",
      " [0.63302752]\n",
      " [1.        ]\n",
      " [0.93577982]] \n",
      "\n",
      "Lambda:  1.0940366972477065\n",
      "Iteration  4 \n",
      " [[0.14465409]\n",
      " [0.27044025]\n",
      " [0.45702306]\n",
      " [1.        ]\n",
      " [0.81132075]] \n",
      "\n",
      "Lambda:  0.9255765199161425\n",
      "Iteration  5 \n",
      " [[0.12344281]\n",
      " [0.2797282 ]\n",
      " [0.54020385]\n",
      " [1.        ]\n",
      " [0.95583239]] \n",
      "\n",
      "Lambda:  1.0908833522083805\n",
      "Iteration  6 \n",
      " [[0.12379964]\n",
      " [0.23695821]\n",
      " [0.45834415]\n",
      " [1.        ]\n",
      " [0.83856735]] \n",
      "\n",
      "Lambda:  0.9531533869711913\n",
      "Iteration  7 \n",
      " [[0.12021784]\n",
      " [0.25010211]\n",
      " [0.52457454]\n",
      " [1.        ]\n",
      " [0.89339687]] \n",
      "\n",
      "Lambda:  1.0245405037440434\n",
      "Iteration  8 \n",
      " [[0.12800239]\n",
      " [0.24534069]\n",
      " [0.48802365]\n",
      " [1.        ]\n",
      " [0.86013754]] \n",
      "\n",
      "Lambda:  0.9821434503837083\n",
      "Iteration  9 \n",
      " [[0.12422413]\n",
      " [0.25455376]\n",
      " [0.5090906 ]\n",
      " [1.        ]\n",
      " [0.883116  ]] \n",
      "\n",
      "Lambda:  1.01038865492922\n",
      "Iteration  10 \n",
      " [[0.12596405]\n",
      " [0.24891093]\n",
      " [0.49485908]\n",
      " [1.        ]\n",
      " [0.87275961]] \n",
      "\n",
      "Lambda:  0.9964743790931728\n",
      "Iteration  11 \n",
      " [[0.12415248]\n",
      " [0.25056221]\n",
      " [0.50176905]\n",
      " [1.        ]\n",
      " [0.87571313]] \n",
      "\n"
     ]
    }
   ],
   "source": [
    "lambda_, ranks, iterations = power_method(p)"
   ]
  },
  {
   "cell_type": "code",
   "execution_count": 6,
   "metadata": {},
   "outputs": [
    {
     "name": "stdout",
     "output_type": "stream",
     "text": [
      "0.9964743790931728\n"
     ]
    }
   ],
   "source": [
    "print(lambda_)"
   ]
  },
  {
   "cell_type": "code",
   "execution_count": 7,
   "metadata": {},
   "outputs": [
    {
     "data": {
      "text/plain": [
       "array([[0.12415248],\n",
       "       [0.25056221],\n",
       "       [0.50176905],\n",
       "       [1.        ],\n",
       "       [0.87571313]])"
      ]
     },
     "execution_count": 7,
     "metadata": {},
     "output_type": "execute_result"
    }
   ],
   "source": [
    "ranks"
   ]
  },
  {
   "cell_type": "code",
   "execution_count": 8,
   "metadata": {},
   "outputs": [
    {
     "data": {
      "text/html": [
       "<div>\n",
       "<style scoped>\n",
       "    .dataframe tbody tr th:only-of-type {\n",
       "        vertical-align: middle;\n",
       "    }\n",
       "\n",
       "    .dataframe tbody tr th {\n",
       "        vertical-align: top;\n",
       "    }\n",
       "\n",
       "    .dataframe thead th {\n",
       "        text-align: right;\n",
       "    }\n",
       "</style>\n",
       "<table border=\"1\" class=\"dataframe\">\n",
       "  <thead>\n",
       "    <tr style=\"text-align: right;\">\n",
       "      <th></th>\n",
       "      <th>ranks</th>\n",
       "    </tr>\n",
       "  </thead>\n",
       "  <tbody>\n",
       "    <tr>\n",
       "      <th>1</th>\n",
       "      <td>0.124152</td>\n",
       "    </tr>\n",
       "    <tr>\n",
       "      <th>2</th>\n",
       "      <td>0.250562</td>\n",
       "    </tr>\n",
       "    <tr>\n",
       "      <th>3</th>\n",
       "      <td>0.501769</td>\n",
       "    </tr>\n",
       "    <tr>\n",
       "      <th>4</th>\n",
       "      <td>1.000000</td>\n",
       "    </tr>\n",
       "    <tr>\n",
       "      <th>5</th>\n",
       "      <td>0.875713</td>\n",
       "    </tr>\n",
       "  </tbody>\n",
       "</table>\n",
       "</div>"
      ],
      "text/plain": [
       "      ranks\n",
       "1  0.124152\n",
       "2  0.250562\n",
       "3  0.501769\n",
       "4  1.000000\n",
       "5  0.875713"
      ]
     },
     "execution_count": 8,
     "metadata": {},
     "output_type": "execute_result"
    }
   ],
   "source": [
    "df = pd.DataFrame(ranks, columns=['ranks'], index=np.arange(1,6))\n",
    "df"
   ]
  }
 ],
 "metadata": {
  "interpreter": {
   "hash": "8aec32d155930cf0381c88650aabd05d0c63319be8b0b9ae7caf1e75ecc5e461"
  },
  "kernelspec": {
   "display_name": "Python 3.9.6 64-bit",
   "language": "python",
   "name": "python3"
  },
  "language_info": {
   "codemirror_mode": {
    "name": "ipython",
    "version": 3
   },
   "file_extension": ".py",
   "mimetype": "text/x-python",
   "name": "python",
   "nbconvert_exporter": "python",
   "pygments_lexer": "ipython3",
   "version": "3.9.6"
  },
  "orig_nbformat": 4
 },
 "nbformat": 4,
 "nbformat_minor": 2
}
