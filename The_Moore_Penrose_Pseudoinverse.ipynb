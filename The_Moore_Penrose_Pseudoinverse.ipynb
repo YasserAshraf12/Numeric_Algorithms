{
 "cells": [
  {
   "cell_type": "markdown",
   "metadata": {},
   "source": [
    "### Required Packages"
   ]
  },
  {
   "cell_type": "code",
   "execution_count": 9,
   "metadata": {},
   "outputs": [],
   "source": [
    "import numpy as np\n",
    "from numpy.linalg import pinv\n",
    "import matplotlib.pyplot as plt"
   ]
  },
  {
   "cell_type": "markdown",
   "metadata": {},
   "source": [
    "#### Find SVD for the matrix A then find it's Pseeudoinverse:\n",
    "$$\\begin{bmatrix} 7 & 2 \\\\ 3 & 4 \\\\ 5 & 3 \\end{bmatrix}$$"
   ]
  },
  {
   "cell_type": "code",
   "execution_count": 10,
   "metadata": {},
   "outputs": [],
   "source": [
    "def pseudo_inv(A):\n",
    "    U, D, Vt = np.linalg.svd(A)\n",
    "\n",
    "    D_plus = np.zeros((A.shape[0], A.shape[1])).T\n",
    "    D_plus[:D.shape[0], :D.shape[0]] = np.linalg.inv(np.diag(D))\n",
    "\n",
    "    A_plus = Vt.T.dot(D_plus).dot(U.T)\n",
    "    \n",
    "    return A_plus"
   ]
  },
  {
   "cell_type": "code",
   "execution_count": 11,
   "metadata": {},
   "outputs": [
    {
     "name": "stdout",
     "output_type": "stream",
     "text": [
      "[[ 0.16666667 -0.10606061  0.03030303]\n",
      " [-0.16666667  0.28787879  0.06060606]]\n"
     ]
    }
   ],
   "source": [
    "A = np.array([ [7, 2], [3, 4], [5, 3] ])\n",
    "A_plus = pseudo_inv(A)\n",
    "\n",
    "print(A_plus)"
   ]
  },
  {
   "cell_type": "markdown",
   "metadata": {},
   "source": [
    "### Use np.linalg.pinv(A) and compare the results"
   ]
  },
  {
   "cell_type": "code",
   "execution_count": 12,
   "metadata": {},
   "outputs": [
    {
     "data": {
      "text/plain": [
       "array([[ 0.16666667, -0.10606061,  0.03030303],\n",
       "       [-0.16666667,  0.28787879,  0.06060606]])"
      ]
     },
     "execution_count": 12,
     "metadata": {},
     "output_type": "execute_result"
    }
   ],
   "source": [
    "np.linalg.pinv(A)"
   ]
  },
  {
   "cell_type": "markdown",
   "metadata": {},
   "source": [
    "### Multiply A+ and  A. See if the result is close to the Identity matrix"
   ]
  },
  {
   "cell_type": "code",
   "execution_count": 13,
   "metadata": {},
   "outputs": [
    {
     "data": {
      "text/plain": [
       "array([[1.00000000e+00, 2.70616862e-16],\n",
       "       [2.28983499e-16, 1.00000000e+00]])"
      ]
     },
     "execution_count": 13,
     "metadata": {},
     "output_type": "execute_result"
    }
   ],
   "source": [
    "A_plus@A"
   ]
  },
  {
   "cell_type": "markdown",
   "metadata": {},
   "source": [
    "### Multiply A and A+. Notice the result\n",
    "- A difference with the real inverse is that A+A is approximate I. However AA+ is not"
   ]
  },
  {
   "cell_type": "code",
   "execution_count": 14,
   "metadata": {},
   "outputs": [
    {
     "data": {
      "text/plain": [
       "array([[ 0.83333333, -0.16666667,  0.33333333],\n",
       "       [-0.16666667,  0.83333333,  0.33333333],\n",
       "       [ 0.33333333,  0.33333333,  0.33333333]])"
      ]
     },
     "execution_count": 14,
     "metadata": {},
     "output_type": "execute_result"
    }
   ],
   "source": [
    "A@A_plus"
   ]
  },
  {
   "cell_type": "markdown",
   "metadata": {},
   "source": [
    "### Using the pseudoinverse to solve a overdetermined system of linear equations\n",
    "- In general there is no solution to overdetermined systems.\n",
    "- In the following picture, there is no point at the intersection of the three lines corresponding to three equations:"
   ]
  },
  {
   "cell_type": "markdown",
   "metadata": {},
   "source": [
    "### Use pseudoinverse to find the approximate solution of the following system of linear equations:\n",
    "#### -2x1 - x2 = -2 , 4x1 - x2 = -8 , -x1 - x2 =-2"
   ]
  },
  {
   "cell_type": "code",
   "execution_count": 15,
   "metadata": {},
   "outputs": [
    {
     "data": {
      "image/png": "[encoded data removed]",
      "text/plain": [
       "<Figure size 432x288 with 1 Axes>"
      ]
     },
     "metadata": {
      "needs_background": "light"
     },
     "output_type": "display_data"
    }
   ],
   "source": [
    "x1 = np.linspace(-5, 5, 1000)\n",
    "x2_1 = -2*x1 + 2\n",
    "x2_2 = 4*x1 + 8\n",
    "x2_3 = -1*x1 + 2\n",
    "\n",
    "plt.plot(x1, x2_1)\n",
    "plt.plot(x1, x2_2)\n",
    "plt.plot(x1, x2_3)\n",
    "plt.xlim(-2., 1)\n",
    "plt.ylim(1, 5)\n",
    "plt.show()"
   ]
  },
  {
   "cell_type": "code",
   "execution_count": 16,
   "metadata": {},
   "outputs": [
    {
     "data": {
      "text/plain": [
       "array([[-0.11290323,  0.17741935, -0.06451613],\n",
       "       [-0.37096774, -0.27419355, -0.35483871]])"
      ]
     },
     "execution_count": 16,
     "metadata": {},
     "output_type": "execute_result"
    }
   ],
   "source": [
    "A = np.array([[-2, -1], [4, -1], [-1, -1]])\n",
    "A_plus = np.linalg.pinv(A)\n",
    "A_plus"
   ]
  },
  {
   "cell_type": "code",
   "execution_count": 17,
   "metadata": {},
   "outputs": [
    {
     "data": {
      "text/plain": [
       "array([[-1.06451613],\n",
       "       [ 3.64516129]])"
      ]
     },
     "execution_count": 17,
     "metadata": {},
     "output_type": "execute_result"
    }
   ],
   "source": [
    "b = np.array([[-2], [-8], [-2]])\n",
    "res = A_plus @ b\n",
    "res"
   ]
  },
  {
   "cell_type": "code",
   "execution_count": 18,
   "metadata": {},
   "outputs": [
    {
     "data": {
      "image/png": "[encoded data removed]",
      "text/plain": [
       "<Figure size 432x288 with 1 Axes>"
      ]
     },
     "metadata": {
      "needs_background": "light"
     },
     "output_type": "display_data"
    }
   ],
   "source": [
    "plt.plot(x1, x2_1)\n",
    "plt.plot(x1, x2_2)\n",
    "plt.plot(x1, x2_3)\n",
    "plt.xlim(-2., 1)\n",
    "plt.ylim(1, 5)\n",
    "\n",
    "plt.scatter(res[0], res[1])\n",
    "\n",
    "plt.show()"
   ]
  }
 ],
 "metadata": {
  "interpreter": {
   "hash": "8aec32d155930cf0381c88650aabd05d0c63319be8b0b9ae7caf1e75ecc5e461"
  },
  "kernelspec": {
   "display_name": "Python 3.9.6 64-bit",
   "language": "python",
   "name": "python3"
  },
  "language_info": {
   "codemirror_mode": {
    "name": "ipython",
    "version": 3
   },
   "file_extension": ".py",
   "mimetype": "text/x-python",
   "name": "python",
   "nbconvert_exporter": "python",
   "pygments_lexer": "ipython3",
   "version": "3.9.6"
  },
  "orig_nbformat": 4
 },
 "nbformat": 4,
 "nbformat_minor": 2
}
