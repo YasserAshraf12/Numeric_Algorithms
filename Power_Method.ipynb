{
 "cells": [
  {
   "cell_type": "markdown",
   "metadata": {},
   "source": [
    "##### Required Packages"
   ]
  },
  {
   "cell_type": "code",
   "execution_count": 1,
   "metadata": {},
   "outputs": [],
   "source": [
    "import numpy as np\n",
    "from numpy import linalg as LA"
   ]
  },
  {
   "cell_type": "markdown",
   "metadata": {},
   "source": [
    "### Use power method to find the largest eigenvalue and the corresponding eigenvector of the matrices:\n",
    "$$\\begin{bmatrix} 0 & 2 \\\\ 2 & 3\\end{bmatrix}$$\n",
    "\n",
    "$$\\begin{bmatrix} -4 & 14 & 0 \\\\ -5 & 13 & 0 \\\\ -1 & 0 & 2 \\end{bmatrix}$$\n"
   ]
  },
  {
   "cell_type": "code",
   "execution_count": 3,
   "metadata": {},
   "outputs": [],
   "source": [
    "def power_method(A):\n",
    "    \n",
    "    X = np.ones((A.shape[0], 1), int)\n",
    "    past = np.ones((A.shape[0], 1), int)\n",
    "    \n",
    "    epsilon = 0.000001\n",
    "    n_iter = 0\n",
    "    for i in range(12):\n",
    "        past = X\n",
    "        \n",
    "        res = A.dot(X)\n",
    "        largest_lambda = LA.norm(res, np.inf)\n",
    "        print(\"Lambda: \", largest_lambda)\n",
    "        res = (res / LA.norm(res, np.inf))\n",
    "        X = res\n",
    "        n_iter+=1\n",
    "        if i > 0 and LA.norm(past - X) <= epsilon:\n",
    "            break\n",
    "        print(\"Iteration \", i, \"\\n\",X, \"\\n\")\n",
    "    return largest_lambda, X, n_iter\n"
   ]
  },
  {
   "cell_type": "markdown",
   "metadata": {},
   "source": [
    "#### Test"
   ]
  },
  {
   "cell_type": "markdown",
   "metadata": {},
   "source": [
    "##### EX1"
   ]
  },
  {
   "cell_type": "code",
   "execution_count": 4,
   "metadata": {},
   "outputs": [],
   "source": [
    "A = np.array([[-4, 14, 0],[-5, 13, 0],[-1, 0, 2]])    "
   ]
  },
  {
   "cell_type": "code",
   "execution_count": 5,
   "metadata": {},
   "outputs": [
    {
     "name": "stdout",
     "output_type": "stream",
     "text": [
      "Lambda:  10.0\n",
      "Iteration  0 \n",
      " [[1. ]\n",
      " [0.8]\n",
      " [0.1]] \n",
      "\n",
      "Lambda:  7.200000000000001\n",
      "Iteration  1 \n",
      " [[ 1.        ]\n",
      " [ 0.75      ]\n",
      " [-0.11111111]] \n",
      "\n",
      "Lambda:  6.499999999999998\n",
      "Iteration  2 \n",
      " [[ 1.        ]\n",
      " [ 0.73076923]\n",
      " [-0.18803419]] \n",
      "\n",
      "Lambda:  6.23076923076923\n",
      "Iteration  3 \n",
      " [[ 1.        ]\n",
      " [ 0.72222222]\n",
      " [-0.22085048]] \n",
      "\n",
      "Lambda:  6.1111111111111125\n",
      "Iteration  4 \n",
      " [[ 1.        ]\n",
      " [ 0.71818182]\n",
      " [-0.2359147 ]] \n",
      "\n",
      "Lambda:  6.054545454545453\n",
      "Iteration  5 \n",
      " [[ 1.        ]\n",
      " [ 0.71621622]\n",
      " [-0.24309495]] \n",
      "\n",
      "Lambda:  6.0270270270270245\n",
      "Iteration  6 \n",
      " [[ 1.        ]\n",
      " [ 0.71524664]\n",
      " [-0.24658756]] \n",
      "\n",
      "Lambda:  6.013452914798206\n",
      "Iteration  7 \n",
      " [[ 1.        ]\n",
      " [ 0.7147651 ]\n",
      " [-0.24830578]] \n",
      "\n",
      "Lambda:  6.006711409395972\n",
      "Iteration  8 \n",
      " [[ 1.        ]\n",
      " [ 0.71452514]\n",
      " [-0.24915656]] \n",
      "\n",
      "Lambda:  6.003351955307263\n",
      "Iteration  9 \n",
      " [[ 1.        ]\n",
      " [ 0.71440536]\n",
      " [-0.24957942]] \n",
      "\n",
      "Lambda:  6.001675041876046\n",
      "Iteration  10 \n",
      " [[ 1.        ]\n",
      " [ 0.71434552]\n",
      " [-0.24979007]] \n",
      "\n",
      "Lambda:  6.00083728718951\n",
      "Iteration  11 \n",
      " [[ 1.        ]\n",
      " [ 0.71431561]\n",
      " [-0.24989515]] \n",
      "\n"
     ]
    },
    {
     "data": {
      "text/plain": [
       "(6.00083728718951,\n",
       " array([[ 1.        ],\n",
       "        [ 0.71431561],\n",
       "        [-0.24989515]]),\n",
       " 12)"
      ]
     },
     "execution_count": 5,
     "metadata": {},
     "output_type": "execute_result"
    }
   ],
   "source": [
    "power_method(A)"
   ]
  },
  {
   "cell_type": "markdown",
   "metadata": {},
   "source": [
    "##### EX2"
   ]
  },
  {
   "cell_type": "code",
   "execution_count": 6,
   "metadata": {},
   "outputs": [
    {
     "name": "stdout",
     "output_type": "stream",
     "text": [
      "Lambda:  5.0\n",
      "Iteration  0 \n",
      " [[0.4]\n",
      " [1. ]] \n",
      "\n",
      "Lambda:  3.8\n",
      "Iteration  1 \n",
      " [[0.52631579]\n",
      " [1.        ]] \n",
      "\n",
      "Lambda:  4.052631578947368\n",
      "Iteration  2 \n",
      " [[0.49350649]\n",
      " [1.        ]] \n",
      "\n",
      "Lambda:  3.987012987012987\n",
      "Iteration  3 \n",
      " [[0.50162866]\n",
      " [1.        ]] \n",
      "\n",
      "Lambda:  4.0032573289902285\n",
      "Iteration  4 \n",
      " [[0.49959317]\n",
      " [1.        ]] \n",
      "\n",
      "Lambda:  3.999186330349878\n",
      "Iteration  5 \n",
      " [[0.50010173]\n",
      " [1.        ]] \n",
      "\n",
      "Lambda:  4.000203458799593\n",
      "Iteration  6 \n",
      " [[0.49997457]\n",
      " [1.        ]] \n",
      "\n",
      "Lambda:  3.999949137887188\n",
      "Iteration  7 \n",
      " [[0.50000636]\n",
      " [1.        ]] \n",
      "\n",
      "Lambda:  4.0000127156898895\n",
      "Iteration  8 \n",
      " [[0.49999841]\n",
      " [1.        ]] \n",
      "\n",
      "Lambda:  3.999996821087633\n",
      "Iteration  9 \n",
      " [[0.5000004]\n",
      " [1.       ]] \n",
      "\n",
      "Lambda:  4.000000794728724\n"
     ]
    },
    {
     "data": {
      "text/plain": [
       "(4.000000794728724,\n",
       " array([[0.4999999],\n",
       "        [1.       ]]),\n",
       " 11)"
      ]
     },
     "execution_count": 6,
     "metadata": {},
     "output_type": "execute_result"
    }
   ],
   "source": [
    "A = np.array([[0, 2], [2, 3]])\n",
    "power_method(A)"
   ]
  }
 ],
 "metadata": {
  "interpreter": {
   "hash": "8aec32d155930cf0381c88650aabd05d0c63319be8b0b9ae7caf1e75ecc5e461"
  },
  "kernelspec": {
   "display_name": "Python 3.9.6 64-bit",
   "language": "python",
   "name": "python3"
  },
  "language_info": {
   "codemirror_mode": {
    "name": "ipython",
    "version": 3
   },
   "file_extension": ".py",
   "mimetype": "text/x-python",
   "name": "python",
   "nbconvert_exporter": "python",
   "pygments_lexer": "ipython3",
   "version": "3.9.6"
  },
  "orig_nbformat": 4
 },
 "nbformat": 4,
 "nbformat_minor": 2
}
