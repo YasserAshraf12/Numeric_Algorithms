{
 "cells": [
  {
   "cell_type": "markdown",
   "metadata": {},
   "source": [
    "### Required Packages"
   ]
  },
  {
   "cell_type": "code",
   "execution_count": null,
   "metadata": {},
   "outputs": [],
   "source": [
    "!pip install prettytable"
   ]
  },
  {
   "cell_type": "code",
   "execution_count": null,
   "metadata": {},
   "outputs": [],
   "source": [
    "import numpy as np\n",
    "from prettytable import PrettyTable as tb\n",
    "from sympy import Symbol, lambdify\n",
    "from sympy import sin, cos"
   ]
  },
  {
   "cell_type": "markdown",
   "metadata": {},
   "source": [
    "## Fixed Point Iteration Method\n",
    "- Implement the <b>Newton's method</b> as a function and solve the following equations:\n",
    "    - $f(x) = x^2 - x - 1 = 0$\n",
    "    - $𝒇(𝒙)=𝒙−𝒔𝒊𝒏(𝒙)−𝟎.𝟓$\n",
    "- Draw the functions and check out the roots.\n",
    "- Draw g(x).\n",
    "- Try your function with different initialization and check out the results.."
   ]
  },
  {
   "cell_type": "code",
   "execution_count": null,
   "metadata": {},
   "outputs": [],
   "source": [
    "def fixed(y, p=1, max_iter=1000, tol=0.000001):\n",
    "    \n",
    "    f = lambdify(x, y)\n",
    "    f_prime = lambdify(x, y.diff())\n",
    "    \n",
    "    table = tb([\"iterations\", \"Xr\", \"Xr+1\", \"|Xr+1 - Xr|\"])\n",
    "\n",
    "    diff = 0\n",
    "    for i in range(max_iter):\n",
    "        prev = p\n",
    "        p = p - f(p) / f_prime(p)\n",
    "        diff = np.abs(p - prev)\n",
    "        \n",
    "        table.add_row([(i+1), prev, p, diff])\n",
    "        \n",
    "        if diff < tol:\n",
    "            break\n",
    "\n",
    "    return p, table"
   ]
  },
  {
   "cell_type": "code",
   "execution_count": null,
   "metadata": {},
   "outputs": [
    {
     "name": "stdout",
     "output_type": "stream",
     "text": [
      "+------------+--------------------+--------------------+-----------------------+\n",
      "| iterations |         Xr         |        Xr+1        |      |Xr+1 - Xr|      |\n",
      "+------------+--------------------+--------------------+-----------------------+\n",
      "|     1      |         1          |        2.0         |          1.0          |\n",
      "|     2      |        2.0         | 1.6666666666666667 |  0.33333333333333326  |\n",
      "|     3      | 1.6666666666666667 | 1.619047619047619  |  0.04761904761904767  |\n",
      "|     4      | 1.619047619047619  | 1.618034447821682  | 0.0010131712259371373 |\n",
      "|     5      | 1.618034447821682  | 1.618033988749989  | 4.590716928820626e-07 |\n",
      "+------------+--------------------+--------------------+-----------------------+\n",
      "1.618033988749989\n"
     ]
    }
   ],
   "source": [
    "x = Symbol(\"x\")\n",
    "\n",
    "y1 = x ** 2 - x - 1\n",
    "f1 = lambdify(x, y1)\n",
    "f1_prime = lambdify(x, y1.diff())\n",
    "r1, table1 = fixed(y1)\n",
    "print(table1)\n",
    "print(r1)"
   ]
  },
  {
   "cell_type": "code",
   "execution_count": null,
   "metadata": {},
   "outputs": [
    {
     "name": "stdout",
     "output_type": "stream",
     "text": [
      "+------------+--------------------+--------------------+-----------------------+\n",
      "| iterations |         Xr         |        Xr+1        |      |Xr+1 - Xr|      |\n",
      "+------------+--------------------+--------------------+-----------------------+\n",
      "|     1      |         1          | 1.7428163968774413 |   0.7428163968774413  |\n",
      "|     2      | 1.7428163968774413 | 1.522886966091886  |  0.21992943078555527  |\n",
      "|     3      | 1.522886966091886  | 1.4976436369181578 |  0.02524332917372818  |\n",
      "|     4      | 1.4976436369181578 | 1.4973004524799622 | 0.0003431844381955873 |\n",
      "|     5      | 1.4973004524799622 | 1.4973003890958945 | 6.338406777217642e-08 |\n",
      "+------------+--------------------+--------------------+-----------------------+\n",
      "1.4973003890958945 \n",
      "\n"
     ]
    }
   ],
   "source": [
    "y2 = x - sin(x) - 0.5\n",
    "f2 = lambdify(x, y2)\n",
    "f2_prime = lambdify(x, y2.diff())\n",
    "r2, table2 = fixed(y2)\n",
    "print(table2)\n",
    "print(r2, \"\\n\")"
   ]
  },
  {
   "cell_type": "code",
   "execution_count": null,
   "metadata": {},
   "outputs": [
    {
     "name": "stdout",
     "output_type": "stream",
     "text": [
      "+-----+--------------------+--------------------+------------------------+\n",
      "| Itr |         Pn         |        Pn+1        |      |Pn+1 - Pn|       |\n",
      "+-----+--------------------+--------------------+------------------------+\n",
      "|  1  |        0.5         | 0.979425538604203  |   0.479425538604203    |\n",
      "|  2  | 0.979425538604203  | 1.330177245525354  |   0.350751706921151    |\n",
      "|  3  | 1.330177245525354  | 1.4711906314794114 |  0.14101338595405744   |\n",
      "|  4  | 1.4711906314794114 | 1.4950434527111363 |  0.02385282123172483   |\n",
      "|  5  | 1.4950434527111363 | 1.4971321228698637 | 0.0020886701587274903  |\n",
      "|  6  | 1.4971321228698637 | 1.4972880192239377 | 0.00015589635407398106 |\n",
      "+-----+--------------------+--------------------+------------------------+\n",
      "r = 1.4972880192239377 \n",
      "f(r2) = -1.1461478567009742e-05\n",
      "\n"
     ]
    }
   ],
   "source": []
  }
 ],
 "metadata": {
  "interpreter": {
   "hash": "8aec32d155930cf0381c88650aabd05d0c63319be8b0b9ae7caf1e75ecc5e461"
  },
  "kernelspec": {
   "display_name": "Python 3.9.6 64-bit",
   "language": "python",
   "name": "python3"
  },
  "language_info": {
   "codemirror_mode": {
    "name": "ipython",
    "version": 3
   },
   "file_extension": ".py",
   "mimetype": "text/x-python",
   "name": "python",
   "nbconvert_exporter": "python",
   "pygments_lexer": "ipython3",
   "version": "3.9.6"
  },
  "orig_nbformat": 4
 },
 "nbformat": 4,
 "nbformat_minor": 2
}
